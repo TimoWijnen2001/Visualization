{
 "cells": [
  {
   "cell_type": "code",
   "execution_count": null,
   "metadata": {},
   "outputs": [],
   "source": [
    "import pandas as pd\n",
    "import plotly.express as px\n",
    "\n",
    "# Load the data\n",
    "df = pd.read_csv('cleaned_data.csv')\n",
    "\n",
    "# Define the aggregation functions for each column\n",
    "aggregations = {col: 'mean' if df[col].dtype == 'float64' else 'first' for col in df.columns.drop('Customer_ID')}\n",
    "\n",
    "# Group by 'Customer_ID' and aggregate\n",
    "df_grouped= df.groupby('Customer_ID').agg(aggregations).reset_index()\n"
   ]
  },
  {
   "cell_type": "code",
   "execution_count": null,
   "metadata": {},
   "outputs": [],
   "source": [
    "\n",
    "# The 3 credit score categories\n",
    "credit_categories = ['Poor', 'Standard', 'Good']\n",
    "\n",
    "# Convert the 'credit_score' column to a categorical type\n",
    "credit_score_categorical = pd.Categorical(df_grouped['Credit_Score'], categories=credit_categories, ordered=True)\n",
    "\n",
    "# Add a new column that contains the integer codes of the 'credit_score' column\n",
    "df_grouped['credit_score_mapped'] = credit_score_categorical.codes\n",
    "\n",
    "df_grouped_cleaned = df_grouped.dropna()\n",
    "\n",
    "df_grouped.head()"
   ]
  },
  {
   "cell_type": "code",
   "execution_count": null,
   "metadata": {},
   "outputs": [],
   "source": [
    "from sklearn.model_selection import StratifiedShuffleSplit\n",
    "\n",
    "# Define the stratified shuffle split\n",
    "sss = StratifiedShuffleSplit(n_splits=100, test_size=0.05, random_state=0)\n",
    "\n",
    "# Get the indices for the rows to keep\n",
    "for _, index in sss.split(df_grouped, df_grouped['Credit_Score']):\n",
    "    df_sample = df_grouped.loc[index]\n"
   ]
  },
  {
   "cell_type": "code",
   "execution_count": null,
   "metadata": {},
   "outputs": [],
   "source": [
    "# Count the number of occurrences of each value in the 'credit_score' column\n",
    "credit_score_counts = df_sample['Credit_Score'].value_counts()\n",
    "\n",
    "print(credit_score_counts)\n",
    "\n",
    "# Get an array of all the column names\n",
    "column_names = df_sample.columns.values\n",
    "\n",
    "print(column_names)"
   ]
  },
  {
   "cell_type": "code",
   "execution_count": null,
   "metadata": {},
   "outputs": [],
   "source": [
    "import dash\n",
    "from dash import dcc\n",
    "from dash import html\n",
    "from dash.dependencies import Input, Output\n",
    "\n",
    "# Initialize the Dash app\n",
    "app = dash.Dash(__name__)\n",
    "\n",
    "# Define the app layout\n",
    "app.layout = html.Div([\n",
    "    dcc.Checklist(\n",
    "        id='colorblind-checkbox',\n",
    "        options=[{'label': 'Use colorblind-friendly color scale', 'value': 'CB'}],\n",
    "        value=[]\n",
    "    ),\n",
    "    dcc.Graph(id='parallel-coordinates-plot')\n",
    "])\n",
    "\n",
    "# Define a callback to update the plot\n",
    "@app.callback(\n",
    "    Output('parallel-coordinates-plot', 'figure'),\n",
    "    [Input('colorblind-checkbox', 'value')]\n",
    ")\n",
    "def update_plot(colorblind_friendly):\n",
    "    color_scale = px.colors.sequential.Cividis if 'CB' in colorblind_friendly else px.colors.diverging.Tealrose\n",
    "\n",
    "    fig = px.parallel_coordinates(\n",
    "        df_sample,\n",
    "        color='credit_score_mapped',\n",
    "        dimensions=['Annual_Income', 'Amount_invested_monthly', 'Credit_Utilization_Ratio', 'Num_of_Delayed_Payment', 'Num_of_Delayed_Payment', 'Outstanding_Debt', 'credit_score_mapped' ],\n",
    "        color_continuous_scale=color_scale,\n",
    "        color_continuous_midpoint=1,\n",
    "        range_color=[0, 2], # Set the color map to go from 0 to 2\n",
    "        labels={'credit_score_mapped': 'Credit Score'}\n",
    "    )  \n",
    "\n",
    "    # Update color bar ticks to category labels\n",
    "    fig.update_coloraxes(colorbar=dict(\n",
    "        tickvals=[0, 1, 2],\n",
    "        ticktext=credit_categories\n",
    "    ))\n",
    "\n",
    "    return fig\n",
    "\n",
    "# Run the app\n",
    "if __name__ == '__main__':\n",
    "    app.run_server(debug=True)"
   ]
  },
  {
   "cell_type": "code",
   "execution_count": null,
   "metadata": {},
   "outputs": [],
   "source": []
  }
 ],
 "metadata": {
  "kernelspec": {
   "display_name": "Python 3",
   "language": "python",
   "name": "python3"
  },
  "language_info": {
   "codemirror_mode": {
    "name": "ipython",
    "version": 3
   },
   "file_extension": ".py",
   "mimetype": "text/x-python",
   "name": "python",
   "nbconvert_exporter": "python",
   "pygments_lexer": "ipython3",
   "version": "3.12.0"
  }
 },
 "nbformat": 4,
 "nbformat_minor": 2
}
