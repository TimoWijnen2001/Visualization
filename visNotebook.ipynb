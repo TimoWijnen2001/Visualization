{
 "cells": [
  {
   "cell_type": "code",
   "execution_count": null,
   "metadata": {},
   "outputs": [],
   "source": [
    "import pandas as pd\n",
    "\n",
    "df = pd.read_csv(\"all_data.csv\", delimiter=\";\")\n",
    "pd.set_option('display.max_columns', None)\n",
    "pd.set_option('display.max_rows', None)"
   ]
  },
  {
   "cell_type": "code",
   "execution_count": null,
   "metadata": {},
   "outputs": [],
   "source": [
    "def parse_data(row, attribute_name):\n",
    "    \"\"\"Get the value of a cell by specifying the column name and row number, \n",
    "    where the row number starts at 0.\n",
    "    It is assumed that df is already defined.\"\"\"\n",
    "    return df.loc[row, attribute_name]\n",
    "# print(parse_data(\"Age\", 0))"
   ]
  },
  {
   "cell_type": "code",
   "execution_count": null,
   "metadata": {},
   "outputs": [],
   "source": [
    "def attribute_distribution(attribute_name):\n",
    "    \"\"\"Get the frequency of the values of a column. including empty values.\n",
    "    It is assumed that df is already defined.\"\"\"\n",
    "    print(df[attribute_name].value_counts(\n",
    "        ascending=True, dropna=False).head(9000))\n",
    "#print(attribute_distribution(\"Annual_Income\"))"
   ]
  },
  {
   "cell_type": "code",
   "execution_count": null,
   "metadata": {},
   "outputs": [],
   "source": [
    "def missing_values_per_attribute():\n",
    "    \"\"\"Get the number of missing values per attribute.\n",
    "    It is assumed that df is already defined.\"\"\"\n",
    "    print(df.isnull().sum())\n",
    "# print(missing_values_per_attribute())"
   ]
  },
  {
   "cell_type": "code",
   "execution_count": null,
   "metadata": {},
   "outputs": [],
   "source": [
    "def missing_values_per_entry():\n",
    "    \"\"\"Get the number of missing values per entry.\n",
    "    It is assumed that df is already defined.\"\"\"\n",
    "    print(df.isnull().sum(axis=1))\n",
    "# print(missing_values_per_entry())"
   ]
  }
 ],
 "metadata": {
  "kernelspec": {
   "display_name": "Python 3",
   "language": "python",
   "name": "python3"
  },
  "language_info": {
   "codemirror_mode": {
    "name": "ipython",
    "version": 3
   },
   "file_extension": ".py",
   "mimetype": "text/x-python",
   "name": "python",
   "nbconvert_exporter": "python",
   "pygments_lexer": "ipython3",
   "version": "3.7.6"
  }
 },
 "nbformat": 4,
 "nbformat_minor": 4
}
