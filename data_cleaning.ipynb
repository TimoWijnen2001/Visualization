{
 "cells": [
  {
   "cell_type": "code",
   "execution_count": 90,
   "metadata": {},
   "outputs": [
    {
     "name": "stderr",
     "output_type": "stream",
     "text": [
      "C:\\Users\\timow\\AppData\\Local\\Temp\\ipykernel_5232\\1761205154.py:7: DtypeWarning: Columns (27) have mixed types. Specify dtype option on import or set low_memory=False.\n",
      "  df = pd.read_csv('all_data.csv', delimiter=';')\n"
     ]
    }
   ],
   "source": [
    "import pandas as pd\n",
    "import numpy as np\n",
    "import seaborn as sns\n",
    "import matplotlib.pyplot as plt\n",
    "from collections import Counter\n",
    "\n",
    "df = pd.read_csv('all_data.csv', delimiter=';')\n",
    "pd.set_option('display.max_columns', None)\n",
    "#pd.set_option('display.max_rows', None)\n",
    "\n",
    "# drop Name and SSN columns\n",
    "df = df.drop(['Name', 'SSN'], axis=1)\n",
    "\n",
    "# Replace all empty cells with NaN in the entire dataframe\n",
    "df.replace([None], np.nan, inplace=True)"
   ]
  },
  {
   "cell_type": "code",
   "execution_count": null,
   "metadata": {},
   "outputs": [],
   "source": [
    "# This was run to create the output.txt file. No need to run it again.\n",
    "\"\"\"\n",
    "columns_list = df.columns.tolist()\n",
    "columns_list.remove('Customer_ID')\n",
    "columns_list.remove(\"ID\")\n",
    "columns_list.remove(\"Month\")\n",
    "\n",
    "for column in columns_list:\n",
    "    # Iterate over each unique Customer_ID\n",
    "    for customer_id in df['Customer_ID'].unique():\n",
    "        # Get unique Annual_Income values for this Customer_ID\n",
    "        unique_incomes = df[df['Customer_ID'] == customer_id][column].unique()\n",
    "\n",
    "        # Check if there are more than one unique values\n",
    "        if len(unique_incomes) > 4:\n",
    "            print(f\"Customer ID: {customer_id}, {column}: {unique_incomes}\")\"\"\""
   ]
  },
  {
   "cell_type": "code",
   "execution_count": 91,
   "metadata": {},
   "outputs": [],
   "source": [
    "# Order entries by cutomer and month, and then reset index\n",
    "month_to_num = {'January': 1, 'February': 2, 'March': 3, 'April': 4, 'May': 5, \n",
    "                'June': 6, 'July': 7, 'August': 8, 'September': 9, \n",
    "                'October': 10, 'November': 11, 'December': 12}\n",
    "\n",
    "df[\"temp_Month\"] = df[\"Month\"].map(month_to_num)\n",
    "df.sort_values([\"Customer_ID\", \"temp_Month\"], inplace=True)\n",
    "df.drop(\"temp_Month\", axis=1, inplace=True)\n",
    "df.reset_index(drop=True, inplace=True)"
   ]
  },
  {
   "cell_type": "code",
   "execution_count": 92,
   "metadata": {},
   "outputs": [],
   "source": [
    "# All columns with numeric values\n",
    "numeric_column_names = [\"Age\", \"Annual_Income\", \"Monthly_Inhand_Salary\", \"Num_Bank_Accounts\", \n",
    "\"Num_Credit_Card\", \"Interest_Rate\", \"Num_of_Loan\", \"Delay_from_due_date\", \n",
    "\"Num_of_Delayed_Payment\", \"Changed_Credit_Limit\", \"Num_Credit_Inquiries\", \n",
    "\"Outstanding_Debt\", \"Credit_Utilization_Ratio\", \"Total_EMI_per_month\", \n",
    "\"Amount_invested_monthly\", \"Monthly_Balance\"]\n",
    "\n",
    "# All columns with non-negative numeric values\n",
    "non_negative_column_names = numeric_column_names.copy()\n",
    "non_negative_column_names.remove(\"Delay_from_due_date\")\n",
    "non_negative_column_names.remove(\"Changed_Credit_Limit\")"
   ]
  },
  {
   "cell_type": "code",
   "execution_count": 93,
   "metadata": {},
   "outputs": [],
   "source": [
    "# Clean columns from unwanted characters \n",
    "special_chars = set()\n",
    "special_char_regex = r'[^0-9]'\n",
    "for column in numeric_column_names:\n",
    "    # Convert to string and perform replacements\n",
    "    df[column] = df[column].astype(str).str.replace(',', '.').str.replace('_', '')\n",
    "\n",
    "    # Extract special characters from each cell and update the set\n",
    "    df[column].dropna().str.findall(special_char_regex).apply(special_chars.update)\n",
    "\n",
    "    # Convert to numeric and round to 2 decimals\n",
    "    df[column] = pd.to_numeric(df[column], errors='coerce').round(2)\n",
    "\n",
    "# Clean the Amount_invested_monthly column from an obvious error value.\n",
    "df['Amount_invested_monthly'] = df['Amount_invested_monthly'].replace(10000, np.nan)"
   ]
  },
  {
   "cell_type": "code",
   "execution_count": 86,
   "metadata": {},
   "outputs": [
    {
     "name": "stdout",
     "output_type": "stream",
     "text": [
      "       Customer_ID  Monthly_Balance  count\n",
      "58302   CUS_0x5a90    -3.333333e+26      1\n",
      "39217   CUS_0x4379    -3.333333e+26      1\n",
      "126102  CUS_0xaebc    -3.333333e+26      1\n",
      "93117   CUS_0x85e9    -3.333333e+26      1\n",
      "16629   CUS_0x26b1    -3.333333e+26      1\n",
      "20360   CUS_0x2b77    -3.333333e+26      1\n",
      "108145  CUS_0x9885    -3.333333e+26      1\n",
      "73367   CUS_0x6c9e    -3.333333e+26      1\n",
      "23743   CUS_0x2f7e    -3.333333e+26      1\n",
      "56362   CUS_0x57f3    -3.333333e+26      1\n"
     ]
    }
   ],
   "source": [
    "# This function is used to find the upper bounds of the columns.\n",
    "def highest_values(column_name):\n",
    "    \"\"\"\n",
    "    This function will give you the 10 highest values of a column where \n",
    "    the value appears more than once for a customer.\n",
    "    This will identify the highest values that are most likely not error values.\n",
    "    \"\"\"\n",
    "    income_counts = df.groupby(['Customer_ID', column_name]).size().reset_index(name='count')\n",
    "    income_counts_filtered = income_counts[income_counts['count'] >= 1]\n",
    "    income_counts_filtered_sorted = income_counts_filtered.sort_values(column_name, ascending=True)\n",
    "    top_10_incomes = income_counts_filtered_sorted.head(10)\n",
    "    print(top_10_incomes)\n",
    "\n",
    "highest_values(\"Monthly_Balance\")"
   ]
  },
  {
   "cell_type": "code",
   "execution_count": 94,
   "metadata": {},
   "outputs": [],
   "source": [
    "# Replace negative values with the mode (of the positive) values of the customer\n",
    "for column in non_negative_column_names:\n",
    "    mode_values = df.groupby('Customer_ID')[column].transform(lambda x: x[x >= 0].mode()[0])\n",
    "    df.loc[df[column] < 0, column] = mode_values[df[column] < 0]"
   ]
  },
  {
   "cell_type": "code",
   "execution_count": 95,
   "metadata": {},
   "outputs": [],
   "source": [
    "# Replace values above the upper limit with the mode value of the customer\n",
    "upper_limit_dict = {\"Age\": 56, \"Annual_Income\": 179987.28, \"Monthly_Inhand_Salary\": 15204.63,\n",
    "                  \"Num_Bank_Accounts\": 11, \"Num_Credit_Card\": 11, \"Interest_Rate\": 34,\n",
    "                  \"Num_of_Loan\": 9, \"Delay_from_due_date\": 67, \"Num_of_Delayed_Payment\": 28,\n",
    "                  \"Changed_Credit_Limit\": 34.21, \"Num_Credit_Inquiries\": 17, \"Outstanding_Debt\": 4998.07,\n",
    "                  \"Credit_Utilization_Ratio\": 43.06, \"Total_EMI_per_month\": 1841.35}\n",
    "\n",
    "for column, limit in upper_limit_dict.items():\n",
    "    # Calculate the mode value for each customer_id in the specified column\n",
    "    mode_values = df.groupby('Customer_ID')[column].transform(lambda x: x.mode()[0])\n",
    "    # Replace values above the limit with the corresponding median value\n",
    "    df.loc[df[column] > limit, column] = mode_values[df[column] > limit]"
   ]
  },
  {
   "cell_type": "code",
   "execution_count": null,
   "metadata": {},
   "outputs": [],
   "source": [
    "df.to_csv('cleaned_data.csv', index=False)"
   ]
  },
  {
   "cell_type": "code",
   "execution_count": 78,
   "metadata": {},
   "outputs": [
    {
     "name": "stdout",
     "output_type": "stream",
     "text": [
      "Age_min: 14.0\n",
      "Age_max: 56.0\n",
      "Annual_Income_min: 7005.93\n",
      "Annual_Income_max: 179987.28\n",
      "Monthly_Inhand_Salary_min: 303.65\n",
      "Monthly_Inhand_Salary_max: 15204.63\n",
      "Num_Bank_Accounts_min: 0.0\n",
      "Num_Bank_Accounts_max: 11.0\n",
      "Num_Credit_Card_min: 0.0\n",
      "Num_Credit_Card_max: 11.0\n",
      "Interest_Rate_min: 1.0\n",
      "Interest_Rate_max: 34.0\n",
      "Num_of_Loan_min: 0.0\n",
      "Num_of_Loan_max: 9.0\n",
      "Num_of_Delayed_Payment_min: 0.0\n",
      "Num_of_Delayed_Payment_max: 28.0\n",
      "Num_Credit_Inquiries_min: 0.0\n",
      "Num_Credit_Inquiries_max: 17.0\n",
      "Outstanding_Debt_min: 0.23\n",
      "Outstanding_Debt_max: 4998.07\n",
      "Credit_Utilization_Ratio_min: 20.0\n",
      "Credit_Utilization_Ratio_max: 43.06\n",
      "Total_EMI_per_month_min: 0.0\n",
      "Total_EMI_per_month_max: 1841.35\n",
      "Amount_invested_monthly_min: 0.0\n",
      "Amount_invested_monthly_max: 1977.33\n",
      "Monthly_Balance_min: 0.01\n",
      "Monthly_Balance_max: 1606.52\n"
     ]
    }
   ],
   "source": [
    "for column in non_negative_column_names:\n",
    "    print(f\"{column}_min: {df[column].min()}\")\n",
    "    print(f\"{column}_max: {df[column].max()}\")"
   ]
  },
  {
   "cell_type": "code",
   "execution_count": 96,
   "metadata": {},
   "outputs": [
    {
     "name": "stdout",
     "output_type": "stream",
     "text": [
      "Age_min: 14\n",
      "Age_max: 56\n",
      "Annual_Income_min: 7005.93\n",
      "Annual_Income_max: 179987.28\n",
      "Monthly_Inhand_Salary_min: 303.65\n",
      "Monthly_Inhand_Salary_max: 15204.63\n",
      "Num_Bank_Accounts_min: 0\n",
      "Num_Bank_Accounts_max: 11\n",
      "Num_Credit_Card_min: 0\n",
      "Num_Credit_Card_max: 11\n",
      "Interest_Rate_min: 1\n",
      "Interest_Rate_max: 34\n",
      "Num_of_Loan_min: 0\n",
      "Num_of_Loan_max: 9\n",
      "Num_of_Delayed_Payment_min: 0.0\n",
      "Num_of_Delayed_Payment_max: 28.0\n",
      "Num_Credit_Inquiries_min: 0.0\n",
      "Num_Credit_Inquiries_max: 17.0\n",
      "Outstanding_Debt_min: 0.23\n",
      "Outstanding_Debt_max: 4998.07\n",
      "Credit_Utilization_Ratio_min: 20.0\n",
      "Credit_Utilization_Ratio_max: 43.06\n",
      "Total_EMI_per_month_min: 0.0\n",
      "Total_EMI_per_month_max: 1841.35\n",
      "Amount_invested_monthly_min: 0.0\n",
      "Amount_invested_monthly_max: 1977.33\n",
      "Monthly_Balance_min: 0.01\n",
      "Monthly_Balance_max: 1606.52\n"
     ]
    }
   ],
   "source": [
    "for column in non_negative_column_names:\n",
    "    print(f\"{column}_min: {df[column].min()}\")\n",
    "    print(f\"{column}_max: {df[column].max()}\")"
   ]
  },
  {
   "cell_type": "markdown",
   "metadata": {},
   "source": [
    "*Below are the cells for "
   ]
  },
  {
   "cell_type": "code",
   "execution_count": null,
   "metadata": {},
   "outputs": [],
   "source": [
    "df['Annual_Income'] = df['Annual_Income'].astype(float)\n",
    "percentile_95 = df['Annual_Income'].quantile(0.95)\n",
    "df['Annual_Income'] = df['Annual_Income'].where(df['Annual_Income'] <= percentile_95, np.nan)"
   ]
  },
  {
   "cell_type": "code",
   "execution_count": null,
   "metadata": {},
   "outputs": [],
   "source": [
    "# Clean Age column\n",
    "df['test_Age'] = df['Age'].astype(str)\n",
    "df['test_Age'] = df['test_Age'].str.replace('\\d+', '', regex=True)\n",
    "print(df[\"test_Age\"].value_counts())\n",
    "df.drop(\"test_Age\", axis=1, inplace=True)\n",
    "\n",
    "df['Age'] = df['Age'].str.replace('\\D+', '', regex=True)\n",
    "\n",
    "df['test_Age'] = df['Age'].astype(str)\n",
    "df['test_Age'] = df['test_Age'].str.replace('\\d+', '', regex=True)\n",
    "print(df[\"test_Age\"].value_counts())\n",
    "df.drop(\"test_Age\", axis=1, inplace=True)"
   ]
  },
  {
   "cell_type": "code",
   "execution_count": null,
   "metadata": {},
   "outputs": [],
   "source": [
    "# Check Monthly_Inhand_Salary column\n",
    "df['test_Monthly_Inhand_Salary'] = df['Monthly_Inhand_Salary'].astype(str)\n",
    "df['test_Monthly_Inhand_Salary'] = df['test_Monthly_Inhand_Salary'].str.replace('\\d+', '', regex=True)\n",
    "print(df[\"test_Monthly_Inhand_Salary\"].value_counts())\n",
    "print(df[df[\"test_Monthly_Inhand_Salary\"] == \"\"])\n",
    "df.drop(\"test_Monthly_Inhand_Salary\", axis=1, inplace=True)\n",
    "\n",
    "# This column seems clean, just some missing values that we might be able to fill in later"
   ]
  },
  {
   "cell_type": "code",
   "execution_count": null,
   "metadata": {},
   "outputs": [],
   "source": [
    "# Check num_bank_accounts column\n",
    "df['test_Num_Bank_Accounts'] = df['Num_Bank_Accounts'].astype(str)\n",
    "df['test_Num_Bank_Accounts'] = df['test_Num_Bank_Accounts'].str.replace('\\d+', '', regex=True)\n",
    "print(df[\"test_Num_Bank_Accounts\"].value_counts())\n",
    "df.drop(\"test_Num_Bank_Accounts\", axis=1, inplace=True)\n",
    "\n",
    "# Replace negative values with NaN\n",
    "df.loc[df['Num_Bank_Accounts'] < 0, 'Num_Bank_Accounts'] = np.nan\n",
    "\n",
    "df['test_Num_Bank_Accounts'] = df['Num_Bank_Accounts'].astype(str)\n",
    "df['test_Num_Bank_Accounts'] = df['test_Num_Bank_Accounts'].str.replace('\\d+', '', regex=True)\n",
    "print(df[\"test_Num_Bank_Accounts\"].value_counts())\n",
    "df.drop(\"test_Num_Bank_Accounts\", axis=1, inplace=True)"
   ]
  },
  {
   "cell_type": "code",
   "execution_count": null,
   "metadata": {},
   "outputs": [],
   "source": [
    "# Check Num_Credit_Card column\n",
    "df['test_Num_Credit_Card'] = df['Num_Credit_Card'].astype(str)\n",
    "df['test_Num_Credit_Card'] = df['test_Num_Credit_Card'].str.replace('\\d+', '', regex=True)\n",
    "print(df[\"test_Num_Credit_Card\"].value_counts())\n",
    "df.drop(\"test_Num_Credit_Card\", axis=1, inplace=True)\n",
    "\n",
    "# No negative values\n",
    "print(df[\"Num_Credit_Card\"].max())"
   ]
  },
  {
   "cell_type": "code",
   "execution_count": null,
   "metadata": {},
   "outputs": [],
   "source": [
    "# Check Num_of_Loan column\n",
    "df['test_Num_of_Loan'] = df['Num_of_Loan'].astype(str)\n",
    "df['test_Num_of_Loan'] = df['test_Num_of_Loan'].str.replace('\\d+', '', regex=True)\n",
    "print(df[\"test_Num_of_Loan\"].value_counts())\n",
    "df.drop(\"test_Num_of_Loan\", axis=1, inplace=True)\n",
    "\n",
    "df['Num_of_Loan'] = df['Num_of_Loan'].str.replace('_', '')\n",
    "df['Num_of_Loan'] = df['Num_of_Loan'].astype(float)\n",
    "df.loc[df['Num_of_Loan'] < 0, 'Num_of_Loan'] = np.nan\n",
    "\n",
    "df['test_Num_of_Loan'] = df['Num_of_Loan'].astype(str)\n",
    "df['test_Num_of_Loan'] = df['test_Num_of_Loan'].str.replace('\\d+', '', regex=True)\n",
    "print(df[\"test_Num_of_Loan\"].value_counts())\n",
    "df.drop(\"test_Num_of_Loan\", axis=1, inplace=True)"
   ]
  },
  {
   "cell_type": "code",
   "execution_count": null,
   "metadata": {},
   "outputs": [],
   "source": [
    "# Check Delay_from_due_date column\n",
    "df['test_Delay_from_due_date'] = df['Delay_from_due_date'].astype(str)\n",
    "df['test_Delay_from_due_date'] = df['test_Delay_from_due_date'].str.replace('\\d+', '', regex=True)\n",
    "print(df[\"test_Delay_from_due_date\"].value_counts())\n",
    "df.drop(\"test_Delay_from_due_date\", axis=1, inplace=True)\n",
    "\n",
    "#df['Delay_from_due_date'] = df['Delay_from_due_date'].astype(float)\n",
    "#df.loc[df['Delay_from_due_date'] < 0, 'Delay_from_due_date'] = np.nan\n",
    "# In this column, negative values might have a meaning\n",
    "\n",
    "df['test_Delay_from_due_date'] = df['Delay_from_due_date'].astype(str)\n",
    "df['test_Delay_from_due_date'] = df['test_Delay_from_due_date'].str.replace('\\d+', '', regex=True)\n",
    "print(df[\"test_Delay_from_due_date\"].value_counts())\n",
    "df.drop(\"test_Delay_from_due_date\", axis=1, inplace=True)"
   ]
  },
  {
   "cell_type": "code",
   "execution_count": null,
   "metadata": {},
   "outputs": [],
   "source": [
    "# Check Num_of_Delayed_Payment column\n",
    "df['test_Num_of_Delayed_Payment'] = df['Num_of_Delayed_Payment'].astype(str)\n",
    "df['test_Num_of_Delayed_Payment'] = df['test_Num_of_Delayed_Payment'].str.replace('\\d+', '', regex=True)\n",
    "print(df[\"test_Num_of_Delayed_Payment\"].value_counts())\n",
    "df.drop(\"test_Num_of_Delayed_Payment\", axis=1, inplace=True)\n",
    "\n",
    "df['Num_of_Delayed_Payment'] = df['Num_of_Delayed_Payment'].str.replace('_', '')\n",
    "df['Num_of_Delayed_Payment'] = df['Num_of_Delayed_Payment'].astype(float)\n",
    "df.loc[df['Num_of_Delayed_Payment'] < 0, 'Num_of_Delayed_Payment'] = np.nan\n",
    "\n",
    "\n",
    "df['test_Num_of_Delayed_Payment'] = df['Num_of_Delayed_Payment'].astype(str)\n",
    "df['test_Num_of_Delayed_Payment'] = df['test_Num_of_Delayed_Payment'].str.replace('\\d+', '', regex=True)\n",
    "print(df[\"test_Num_of_Delayed_Payment\"].value_counts())\n",
    "df.drop(\"test_Num_of_Delayed_Payment\", axis=1, inplace=True)"
   ]
  },
  {
   "cell_type": "code",
   "execution_count": null,
   "metadata": {},
   "outputs": [],
   "source": [
    "df['test_Changed_Credit_Limit'] = df['Changed_Credit_Limit'].astype(str)\n",
    "df['test_Changed_Credit_Limit'] = df['test_Changed_Credit_Limit'].str.replace('\\d+', '', regex=True)\n",
    "print(df[\"test_Changed_Credit_Limit\"].value_counts())\n",
    "df.drop(\"test_Changed_Credit_Limit\", axis=1, inplace=True)\n",
    "\n",
    "df['Changed_Credit_Limit'] = df['Changed_Credit_Limit'].str.replace('_', '')\n",
    "df[\"Changed_Credit_Limit\"].replace([None, '', np.nan], np.nan, inplace=True)\n",
    "\n",
    "df['test_Changed_Credit_Limit'] = df['Changed_Credit_Limit'].astype(str)\n",
    "df['test_Changed_Credit_Limit'] = df['test_Changed_Credit_Limit'].str.replace('\\d+', '', regex=True)\n",
    "print(df[\"test_Changed_Credit_Limit\"].value_counts())\n",
    "df.drop(\"test_Changed_Credit_Limit\", axis=1, inplace=True)"
   ]
  },
  {
   "cell_type": "code",
   "execution_count": null,
   "metadata": {},
   "outputs": [],
   "source": [
    "df['test_Outstanding_Debt'] = df['Outstanding_Debt'].astype(str)\n",
    "df['test_Outstanding_Debt'] = df['test_Outstanding_Debt'].str.replace('\\d+', '', regex=True)\n",
    "print(df[\"test_Outstanding_Debt\"].value_counts())\n",
    "df.drop(\"test_Outstanding_Debt\", axis=1, inplace=True)\n",
    "\n",
    "df['Outstanding_Debt'] = df['Outstanding_Debt'].str.replace('.', ',')\n",
    "df['Outstanding_Debt'] = df['Outstanding_Debt'].str.replace('_', '')\n",
    "\n",
    "df['test_Outstanding_Debt'] = df['Outstanding_Debt'].astype(str)\n",
    "df['test_Outstanding_Debt'] = df['test_Outstanding_Debt'].str.replace('\\d+', '', regex=True)\n",
    "print(df[\"test_Outstanding_Debt\"].value_counts())\n",
    "df.drop(\"test_Outstanding_Debt\", axis=1, inplace=True)"
   ]
  },
  {
   "cell_type": "code",
   "execution_count": null,
   "metadata": {},
   "outputs": [],
   "source": [
    "df['test_Credit_Utilization_Ratio'] = df['Credit_Utilization_Ratio'].astype(str)\n",
    "df['test_Credit_Utilization_Ratio'] = df['test_Credit_Utilization_Ratio'].str.replace('\\d+', '', regex=True)\n",
    "print(df[\"test_Credit_Utilization_Ratio\"].value_counts())\n",
    "df.drop(\"test_Credit_Utilization_Ratio\", axis=1, inplace=True)\n",
    "\n",
    "# \"Empty\" values are whole numbers, so that's fine"
   ]
  },
  {
   "cell_type": "code",
   "execution_count": null,
   "metadata": {},
   "outputs": [],
   "source": [
    "df['test_Payment_of_Min_Amount'] = df['Payment_of_Min_Amount'].astype(str)\n",
    "df['test_Payment_of_Min_Amount'] = df['test_Payment_of_Min_Amount'].str.replace('\\d+', '', regex=True)\n",
    "print(df[\"test_Payment_of_Min_Amount\"].value_counts())\n",
    "df.drop(\"test_Payment_of_Min_Amount\", axis=1, inplace=True)\n",
    "\n",
    "df.loc[df['Payment_of_Min_Amount'] == \"NM\", 'Payment_of_Min_Amount'] = np.nan\n",
    "\n",
    "df['test_Payment_of_Min_Amount'] = df['Payment_of_Min_Amount'].astype(str)\n",
    "df['test_Payment_of_Min_Amount'] = df['test_Payment_of_Min_Amount'].str.replace('\\d+', '', regex=True)\n",
    "print(df[\"test_Payment_of_Min_Amount\"].value_counts())\n",
    "df.drop(\"test_Payment_of_Min_Amount\", axis=1, inplace=True)"
   ]
  },
  {
   "cell_type": "code",
   "execution_count": null,
   "metadata": {},
   "outputs": [],
   "source": [
    "df['test_Amount_invested_monthly'] = df['Amount_invested_monthly'].astype(str)\n",
    "df['test_Amount_invested_monthly'] = df['test_Amount_invested_monthly'].str.replace('\\d+', '', regex=True)\n",
    "print(df[\"test_Amount_invested_monthly\"].value_counts())\n",
    "print(df[df[\"test_Amount_invested_monthly\"] ==\"____\"])\n",
    "df.drop(\"test_Amount_invested_monthly\", axis=1, inplace=True)\n",
    "\n",
    "# What do the __10000__ mean?"
   ]
  },
  {
   "cell_type": "code",
   "execution_count": null,
   "metadata": {},
   "outputs": [],
   "source": [
    "df['test_Payment_Behaviour'] = df['Payment_Behaviour'].astype(str)\n",
    "df['test_Payment_Behaviour'] = df['test_Payment_Behaviour'].str.replace('\\d+', '', regex=True)\n",
    "print(df[\"test_Payment_Behaviour\"].value_counts())\n",
    "df.drop(\"test_Payment_Behaviour\", axis=1, inplace=True)\n",
    "\n",
    "df.loc[df['Payment_Behaviour'] == \"!@9#%8\", 'Payment_Behaviour'] = np.nan\n",
    "\n",
    "df['test_Payment_Behaviour'] = df['Payment_Behaviour'].astype(str)\n",
    "df['test_Payment_Behaviour'] = df['test_Payment_Behaviour'].str.replace('\\d+', '', regex=True)\n",
    "print(df[\"test_Payment_Behaviour\"].value_counts())\n",
    "df.drop(\"test_Payment_Behaviour\", axis=1, inplace=True)"
   ]
  },
  {
   "cell_type": "code",
   "execution_count": null,
   "metadata": {},
   "outputs": [],
   "source": [
    "df['test_Monthly_Balance'] = df['Monthly_Balance'].astype(str)\n",
    "df['test_Monthly_Balance'] = df['test_Monthly_Balance'].str.replace('\\d+', '', regex=True)\n",
    "print(df[\"test_Monthly_Balance\"].value_counts())\n",
    "df.drop(\"test_Monthly_Balance\", axis=1, inplace=True)\n",
    "\n",
    "df.loc[df['Monthly_Balance'] == \"__-333333333333333333333333333__\", 'Monthly_Balance'] = np.nan\n",
    "\n",
    "df['test_Monthly_Balance'] = df['Monthly_Balance'].astype(str)\n",
    "df['test_Monthly_Balance'] = df['test_Monthly_Balance'].str.replace('\\d+', '', regex=True)\n",
    "print(df[\"test_Monthly_Balance\"].value_counts())\n",
    "df.drop(\"test_Monthly_Balance\", axis=1, inplace=True)"
   ]
  }
 ],
 "metadata": {
  "kernelspec": {
   "display_name": ".venv",
   "language": "python",
   "name": "python3"
  },
  "language_info": {
   "codemirror_mode": {
    "name": "ipython",
    "version": 3
   },
   "file_extension": ".py",
   "mimetype": "text/x-python",
   "name": "python",
   "nbconvert_exporter": "python",
   "pygments_lexer": "ipython3",
   "version": "3.10.11"
  }
 },
 "nbformat": 4,
 "nbformat_minor": 2
}
