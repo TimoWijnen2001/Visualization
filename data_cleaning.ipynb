{
 "cells": [
  {
   "cell_type": "markdown",
   "metadata": {},
   "source": [
    "<span style=\"font-family: 'Palatino Linotype', 'Book Antiqua', Palatino, serif; font-size: 24px;\">\n",
    "The cells below don't need to be run again. They were used to create the cleaned_data.csv file.</span>"
   ]
  },
  {
   "cell_type": "markdown",
   "metadata": {},
   "source": [
    "<br><br>\n",
    "<span style=\"font-family: 'Palatino Linotype', 'Book Antiqua', Palatino, serif; font-size: 18px;\">\n",
    "The data is loaded, and unnecessary columns are removed. \n",
    "Empty values are replaced by NaN values so all missing/error values have the same name.</span>"
   ]
  },
  {
   "cell_type": "code",
   "execution_count": 17,
   "metadata": {},
   "outputs": [
    {
     "name": "stderr",
     "output_type": "stream",
     "text": [
      "c:\\ProgramData\\Anaconda3\\lib\\site-packages\\IPython\\core\\interactiveshell.py:3063: DtypeWarning: Columns (27) have mixed types.Specify dtype option on import or set low_memory=False.\n",
      "  interactivity=interactivity, compiler=compiler, result=result)\n"
     ]
    }
   ],
   "source": [
    "import re\n",
    "import pandas as pd\n",
    "import numpy as np\n",
    "\n",
    "# Import the data\n",
    "df = pd.read_csv('all_data.csv', delimiter=';')\n",
    "pd.set_option('display.max_columns', None)\n",
    "#pd.set_option('display.max_rows', None)\n",
    "\n",
    "# drop Name and SSN columns\n",
    "df = df.drop(['Name', 'SSN'], axis=1)\n",
    "\n",
    "# Replace all empty cells with NaN in the entire dataframe\n",
    "df.replace([None], np.nan, inplace=True)"
   ]
  },
  {
   "cell_type": "markdown",
   "metadata": {},
   "source": [
    "<br><br>\n",
    "<span style=\"font-family: 'Palatino Linotype', 'Book Antiqua', Palatino, serif; font-size: 18px;\">\n",
    "First we order the data by Customer_ID and Month. That way we have a nice overview of 12 consecutive data points that belong to a single customer.</span>"
   ]
  },
  {
   "cell_type": "code",
   "execution_count": 18,
   "metadata": {},
   "outputs": [],
   "source": [
    "# Order DataFrame by customer id and month\n",
    "month_to_num = {'January': 1, 'February': 2, 'March': 3, 'April': 4, 'May': 5, \n",
    "                'June': 6, 'July': 7, 'August': 8, 'September': 9, \n",
    "                'October': 10, 'November': 11, 'December': 12}\n",
    "\n",
    "df[\"temp_Month\"] = df[\"Month\"].map(month_to_num)\n",
    "df.sort_values([\"Customer_ID\", \"temp_Month\"], inplace=True)\n",
    "df.drop(\"temp_Month\", axis=1, inplace=True)\n",
    "df.reset_index(drop=True, inplace=True)"
   ]
  },
  {
   "cell_type": "markdown",
   "metadata": {},
   "source": [
    "<br><br>\n",
    "<span style=\"font-family: 'Palatino Linotype', 'Book Antiqua', Palatino, serif; font-size: 18px;\">\n",
    "The numeric columns are cleaned from unwanted (special) characters, and are all transformed into the correct data type.  \n",
    "It was decided that error values of the Occupation column will be replaced by the most occurring value of that customer.  \n",
    "Then certain error values are replaced with a uniform value (\"Not available\" for strings, Nan for numeric values) so we can easily identify them in the future.  \n",
    "The Payment_Behaviour column is split into two columns. If this is not used in the future, remove from code!</span>"
   ]
  },
  {
   "cell_type": "code",
   "execution_count": 19,
   "metadata": {},
   "outputs": [],
   "source": [
    "# Define columns with numeric values\n",
    "numeric_column_names = [\"Age\", \"Annual_Income\", \"Monthly_Inhand_Salary\", \"Num_Bank_Accounts\", \n",
    "\"Num_Credit_Card\", \"Interest_Rate\", \"Num_of_Loan\", \"Delay_from_due_date\", \n",
    "\"Num_of_Delayed_Payment\", \"Changed_Credit_Limit\", \"Num_Credit_Inquiries\", \n",
    "\"Outstanding_Debt\", \"Credit_Utilization_Ratio\", \"Total_EMI_per_month\", \n",
    "\"Amount_invested_monthly\", \"Monthly_Balance\"]\n",
    "\n",
    "# Clean numeric columns from unwanted characters \n",
    "special_chars = set()\n",
    "special_char_regex = r'[^0-9]'\n",
    "for column in numeric_column_names:\n",
    "    df[column] = df[column].astype(str).str.replace(',', '.').str.replace('_', '') # Perform replacements\n",
    "    df[column] = pd.to_numeric(df[column], errors='coerce').round(2) # Convert to numeric\n",
    "\n",
    "\n",
    "# Custom cleaning for specific columns\n",
    "df[\"Occupation\"] = df.groupby(\"Customer_ID\")[\"Occupation\"].transform(lambda x: x.mode()[0] if x.mode().size > 0 else np.nan) # Replaces NaN values with the mode of that customer\n",
    "df['Amount_invested_monthly'] = df['Amount_invested_monthly'].replace(10000, np.nan)\n",
    "df['Credit_Mix'] = df['Credit_Mix'].replace(\"_\", \"Not available\")\n",
    "df['Payment_of_Min_Amount'] = df['Payment_of_Min_Amount'].replace(\"NM\", \"Not available\")\n",
    "df[\"Payment_Behaviour\"] = df[\"Payment_Behaviour\"].replace(\"!@9#%8\", \"Not available\")\n",
    "\n",
    "\n",
    "# Split 'Payment_Behaviour' column into two new columns\n",
    "df[['Behaviour_Spending_Level', 'Behaviour_Value_Size']] = df['Payment_Behaviour'].str.split('_(?=[A-Z])', n=1, expand=True)\n",
    "df.loc[df['Payment_Behaviour'] == 'Not available', ['Behaviour_Spending_Level', 'Behaviour_Value_Size']] = 'Not available'\n",
    "\n",
    "# Set new columns next to 'Payment_Behaviour'\n",
    "pb_index = df.columns.get_loc('Payment_Behaviour')\n",
    "df = df[df.columns.tolist()[:pb_index+1] + ['Behaviour_Spending_Level', 'Behaviour_Value_Size'] + df.columns.tolist()[pb_index+1:-2]]"
   ]
  },
  {
   "cell_type": "markdown",
   "metadata": {},
   "source": [
    "<br><br>\n",
    "<span style=\"font-family: 'Palatino Linotype', 'Book Antiqua', Palatino, serif; font-size: 18px;\">\n",
    "In columns where negative values are not allowed/possible, negative values will be replaced by the mode of the positive values of the customer.</span>"
   ]
  },
  {
   "cell_type": "code",
   "execution_count": 20,
   "metadata": {},
   "outputs": [],
   "source": [
    "# Define columns with non-negative numeric values\n",
    "non_negative_column_names = numeric_column_names.copy()\n",
    "non_negative_column_names.remove(\"Delay_from_due_date\")\n",
    "non_negative_column_names.remove(\"Changed_Credit_Limit\")\n",
    "\n",
    "# Replace negative values  with the mode (of the positive) values of the customer\n",
    "for column in non_negative_column_names:\n",
    "    mode_values = df.groupby('Customer_ID')[column].transform(lambda x: x[x >= 0].mode()[0])\n",
    "    df.loc[df[column] < 0, column] = mode_values[df[column] < 0]"
   ]
  },
  {
   "cell_type": "markdown",
   "metadata": {},
   "source": [
    "<br><br>\n",
    "<span style=\"font-family: 'Palatino Linotype', 'Book Antiqua', Palatino, serif; font-size: 18px;\">\n",
    "To filter out error/impossible values from certain columns, an upper limit is selected. Every value above this upper limit will be replaced by the mode of the other values of that customer.  \n",
    "It was decided that if a value of a column occurs more than once for a customer, this value is legitimate and thus not an error/impossible value.  \n",
    "By sorting these values for each numeric column (with a few exceptions), the largest value was selected as an upper limit for these columns.  The code below was used to find these limits.  \n",
    "After investigation, it seems like Amount_invested_monthly and Monthly_Balance do not have error values. So it was not needed to assign those columns an upper limit.</span>"
   ]
  },
  {
   "cell_type": "code",
   "execution_count": 21,
   "metadata": {},
   "outputs": [
    {
     "name": "stdout",
     "output_type": "stream",
     "text": [
      "       Customer_ID  Amount_invested_monthly  count\n",
      "14832   CUS_0x2617                  1977.33      1\n",
      "126946   CUS_0xbcf                  1961.22      1\n",
      "129134  CUS_0xbfef                  1944.52      1\n",
      "82395   CUS_0x8109                  1941.24      1\n",
      "13150   CUS_0x23d6                  1908.12      1\n",
      "136316   CUS_0xf79                  1903.08      1\n",
      "46203   CUS_0x5048                  1901.79      1\n",
      "104543  CUS_0x9ecd                  1890.86      1\n",
      "5915    CUS_0x18ef                  1887.54      1\n",
      "120100  CUS_0xb41f                  1885.65      1\n"
     ]
    }
   ],
   "source": [
    "def highest_values(column_name):\n",
    "    \"\"\"\n",
    "    This function will give you the 10 highest values of a column where \n",
    "    the value appears more than once for a customer.\n",
    "    This will identify the highest values that are most likely not error values.\n",
    "    \"\"\"\n",
    "    income_counts = df.groupby(['Customer_ID', column_name]).size().reset_index(name='count')\n",
    "    income_counts_filtered = income_counts[income_counts['count'] >= 1]\n",
    "    income_counts_filtered_sorted = income_counts_filtered.sort_values(column_name, ascending=False)\n",
    "    top_10_incomes = income_counts_filtered_sorted.head(10)\n",
    "    print(top_10_incomes)\n",
    "\n",
    "highest_values(\"Amount_invested_monthly\")"
   ]
  },
  {
   "cell_type": "markdown",
   "metadata": {},
   "source": [
    "<span style=\"font-family: 'Palatino Linotype', 'Book Antiqua', Palatino, serif; font-size: 18px;\">\n",
    "For the selected columns, the upper limits are defined and any value above those limits are replaced by the mode value of that customer.\n",
    "</span>"
   ]
  },
  {
   "cell_type": "code",
   "execution_count": 22,
   "metadata": {},
   "outputs": [],
   "source": [
    "# Replace values above the upper limit with the mode value of that customer\n",
    "upper_limit_dict = {\"Age\": 56, \"Annual_Income\": 179987.28, \"Monthly_Inhand_Salary\": 15204.63,\n",
    "                  \"Num_Bank_Accounts\": 11, \"Num_Credit_Card\": 11, \"Interest_Rate\": 34,\n",
    "                  \"Num_of_Loan\": 9, \"Delay_from_due_date\": 67, \"Num_of_Delayed_Payment\": 28,\n",
    "                  \"Changed_Credit_Limit\": 34.21, \"Num_Credit_Inquiries\": 17, \"Outstanding_Debt\": 4998.07,\n",
    "                  \"Credit_Utilization_Ratio\": 43.06, \"Total_EMI_per_month\": 1841.35}\n",
    "\n",
    "for column, limit in upper_limit_dict.items():\n",
    "    # Calculate the mode value for each customer_id in the specified column\n",
    "    mode_values = df.groupby('Customer_ID')[column].transform(lambda x: x.mode()[0])\n",
    "    # Replace values above the limit with the corresponding mode value\n",
    "    df.loc[df[column] > limit, column] = mode_values[df[column] > limit]"
   ]
  },
  {
   "cell_type": "markdown",
   "metadata": {},
   "source": [
    "<br><br>\n",
    "<span style=\"font-family: 'Palatino Linotype', 'Book Antiqua', Palatino, serif; font-size: 18px;\">\n",
    "Credit_History_Age is transformed from its string format to a numeric representation of the total number of months.  \n",
    "After this, the missing values are replaced by the correct ones with the following logic:\n",
    "First, every missing value in January is replaced by the correct value by looking at the subsequent months until a non-NaN value is found. The missing value in January is then calculated based on the found value and the distance between those two months.\n",
    "After this, every value in January is correct, and every subsequent month for each customer can easily be calculated and inserted into the dataset.\n",
    "</span>"
   ]
  },
  {
   "cell_type": "code",
   "execution_count": 23,
   "metadata": {},
   "outputs": [],
   "source": [
    "def total_months(str):\n",
    "    \"\"\"\n",
    "    This function will convert a string of the format \"{x} years and {y} months\" \n",
    "    to the total number of months.\n",
    "    \"\"\"\n",
    "    if str is np.nan:\n",
    "        return np.nan\n",
    "    \n",
    "    numbers = re.findall(r'\\d+', str)\n",
    "    if len(numbers) == 2:\n",
    "        return int(numbers[0]) * 12 + int(numbers[1])\n",
    "    else:\n",
    "        return np.nan\n",
    "\n",
    "df['Credit_History_Age'] = df['Credit_History_Age'].apply(total_months)\n",
    "\n",
    "\n",
    "# Replace missing values with the correct values based on existing data\n",
    "for idx in range(len(df)):\n",
    "    if df.loc[idx, \"Month\"] == \"January\":\n",
    "        if pd.isna(df.loc[idx, \"Credit_History_Age\"]):\n",
    "            # If the first month's value is NaN, find the next non-NaN value\n",
    "            distance = 0\n",
    "            current_idx = idx\n",
    "            while current_idx < len(df) and pd.isna(df.loc[current_idx, \"Credit_History_Age\"]):\n",
    "                distance += 1\n",
    "                current_idx += 1\n",
    "\n",
    "            # Calculate the new value for January\n",
    "            new_value = df.loc[current_idx, 'Credit_History_Age'] - distance\n",
    "            df.at[idx, 'Credit_History_Age'] = new_value\n",
    "        \n",
    "        # Set the starting value for the customer\n",
    "        starting_value = df.loc[idx, 'Credit_History_Age']\n",
    "        current_customer_id = df.loc[idx, 'Customer_ID']\n",
    "        current_idx = idx + 1\n",
    "\n",
    "        # Increment the value for each subsequent month\n",
    "        while current_idx < len(df) and df.loc[current_idx, 'Customer_ID'] == current_customer_id:\n",
    "            starting_value += 1\n",
    "            df.at[current_idx, 'Credit_History_Age'] = starting_value\n",
    "            current_idx += 1"
   ]
  },
  {
   "cell_type": "markdown",
   "metadata": {},
   "source": [
    "<br><br>\n",
    "<span style=\"font-family: 'Palatino Linotype', 'Book Antiqua', Palatino, serif; font-size: 18px;\">\n",
    "Finally, the data is stored in a new csv file for easy access. \n",
    "</span>"
   ]
  },
  {
   "cell_type": "code",
   "execution_count": 26,
   "metadata": {},
   "outputs": [
    {
     "name": "stdout",
     "output_type": "stream",
     "text": [
      "                 Age  Annual_Income  Monthly_Inhand_Salary  Num_Bank_Accounts  \\\n",
      "count  150000.000000  150000.000000          127500.000000      150000.000000   \n",
      "mean       33.479060   50505.123465            4190.115094           5.368953   \n",
      "std        10.767158   38299.358243            3180.489626           2.593830   \n",
      "min        14.000000    7005.930000             303.650000           0.000000   \n",
      "25%        25.000000   19342.972500            1625.270000           3.000000   \n",
      "50%        33.000000   36999.705000            3091.000000           5.000000   \n",
      "75%        42.000000   71683.470000            5948.450000           7.000000   \n",
      "max        56.000000  179987.280000           15204.630000          11.000000   \n",
      "\n",
      "       Num_Credit_Card  Interest_Rate    Num_of_Loan  Delay_from_due_date  \\\n",
      "count    150000.000000  150000.000000  150000.000000        150000.000000   \n",
      "mean          5.533660      14.532080       3.532880            21.063400   \n",
      "std           2.068672       8.741316       2.446352            14.860154   \n",
      "min           0.000000       1.000000       0.000000            -5.000000   \n",
      "25%           4.000000       7.000000       2.000000            10.000000   \n",
      "50%           5.000000      13.000000       3.000000            18.000000   \n",
      "75%           7.000000      20.000000       5.000000            28.000000   \n",
      "max          11.000000      34.000000       9.000000            67.000000   \n",
      "\n",
      "       Num_of_Delayed_Payment  Changed_Credit_Limit  Num_Credit_Inquiries  \\\n",
      "count           139500.000000         146850.000000         147000.000000   \n",
      "mean                13.331570             10.382420              6.281381   \n",
      "std                  6.273371              6.780487              3.957040   \n",
      "min                  0.000000             -6.490000              0.000000   \n",
      "25%                  9.000000              5.330000              3.000000   \n",
      "50%                 14.000000              9.410000              6.000000   \n",
      "75%                 18.000000             14.840000              9.000000   \n",
      "max                 28.000000             34.210000             17.000000   \n",
      "\n",
      "       Outstanding_Debt  Credit_Utilization_Ratio  Credit_History_Age  \\\n",
      "count     150000.000000             150000.000000        150000.00000   \n",
      "mean        1426.220376                 32.168156           223.20688   \n",
      "std         1155.127101                  5.037935            99.71438   \n",
      "min            0.230000                 20.000000             1.00000   \n",
      "25%          566.072500                 27.980000           146.00000   \n",
      "50%         1166.155000                 32.190000           222.00000   \n",
      "75%         1945.962500                 36.380000           304.00000   \n",
      "max         4998.070000                 43.060000           408.00000   \n",
      "\n",
      "       Total_EMI_per_month  Amount_invested_monthly  Monthly_Balance  \n",
      "count        150000.000000            136770.000000    148238.000000  \n",
      "mean            113.159958               195.305032       402.704999  \n",
      "std             144.487084               198.599626       213.843455  \n",
      "min               0.000000                 0.000000         0.010000  \n",
      "25%              29.920000                72.230000       270.230000  \n",
      "50%              67.950000               128.985000       336.800000  \n",
      "75%             152.400000               236.840000       470.455000  \n",
      "max            1841.350000              1977.330000      1606.520000  \n"
     ]
    }
   ],
   "source": [
    "df.to_csv('cleaned_data.csv', index=False)"
   ]
  }
 ],
 "metadata": {
  "kernelspec": {
   "display_name": ".venv",
   "language": "python",
   "name": "python3"
  },
  "language_info": {
   "codemirror_mode": {
    "name": "ipython",
    "version": 3
   },
   "file_extension": ".py",
   "mimetype": "text/x-python",
   "name": "python",
   "nbconvert_exporter": "python",
   "pygments_lexer": "ipython3",
   "version": "3.7.6"
  }
 },
 "nbformat": 4,
 "nbformat_minor": 2
}
