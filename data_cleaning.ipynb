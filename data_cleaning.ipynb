{
 "cells": [
  {
   "cell_type": "code",
   "execution_count": 204,
   "metadata": {},
   "outputs": [
    {
     "name": "stderr",
     "output_type": "stream",
     "text": [
      "C:\\Users\\timow\\AppData\\Local\\Temp\\ipykernel_12444\\3027398730.py:3: DtypeWarning: Columns (27) have mixed types. Specify dtype option on import or set low_memory=False.\n",
      "  df = pd.read_csv('all_data.csv', delimiter=';')\n"
     ]
    }
   ],
   "source": [
    "import pandas as pd\n",
    "import numpy as np\n",
    "df = pd.read_csv('all_data.csv', delimiter=';')\n",
    "#pd.set_option('display.max_columns', None)\n",
    "#pd.set_option('display.max_rows', None)\n",
    "\n",
    "# drop Name and SSN columns\n",
    "df = df.drop(['Name', 'SSN'], axis=1)"
   ]
  },
  {
   "cell_type": "code",
   "execution_count": 205,
   "metadata": {},
   "outputs": [],
   "source": [
    "# Replace all empty cells with NaN in the entire dataframe\n",
    "df.replace([None], np.nan, inplace=True)"
   ]
  },
  {
   "cell_type": "code",
   "execution_count": 206,
   "metadata": {},
   "outputs": [],
   "source": [
    "# Order entries by cutomer and month, and then reset index\n",
    "month_to_num = {'January': 1, 'February': 2, 'March': 3, 'April': 4, 'May': 5, \n",
    "                'June': 6, 'July': 7, 'August': 8, 'September': 9, \n",
    "                'October': 10, 'November': 11, 'December': 12}\n",
    "\n",
    "df[\"temp_Month\"] = df[\"Month\"].map(month_to_num)\n",
    "df.sort_values([\"Customer_ID\", \"temp_Month\"], inplace=True)\n",
    "df.drop(\"temp_Month\", axis=1, inplace=True)\n",
    "df.reset_index(drop=True, inplace=True)"
   ]
  },
  {
   "cell_type": "code",
   "execution_count": 207,
   "metadata": {},
   "outputs": [
    {
     "data": {
      "text/html": [
       "<div>\n",
       "<style scoped>\n",
       "    .dataframe tbody tr th:only-of-type {\n",
       "        vertical-align: middle;\n",
       "    }\n",
       "\n",
       "    .dataframe tbody tr th {\n",
       "        vertical-align: top;\n",
       "    }\n",
       "\n",
       "    .dataframe thead th {\n",
       "        text-align: right;\n",
       "    }\n",
       "</style>\n",
       "<table border=\"1\" class=\"dataframe\">\n",
       "  <thead>\n",
       "    <tr style=\"text-align: right;\">\n",
       "      <th></th>\n",
       "      <th>ID</th>\n",
       "      <th>Customer_ID</th>\n",
       "      <th>Month</th>\n",
       "      <th>Age</th>\n",
       "      <th>Occupation</th>\n",
       "      <th>Annual_Income</th>\n",
       "      <th>Monthly_Inhand_Salary</th>\n",
       "      <th>Num_Bank_Accounts</th>\n",
       "      <th>Num_Credit_Card</th>\n",
       "      <th>Interest_Rate</th>\n",
       "      <th>Num_of_Loan</th>\n",
       "      <th>Type_of_Loan</th>\n",
       "      <th>Delay_from_due_date</th>\n",
       "      <th>Num_of_Delayed_Payment</th>\n",
       "      <th>Changed_Credit_Limit</th>\n",
       "      <th>Num_Credit_Inquiries</th>\n",
       "      <th>Credit_Mix</th>\n",
       "      <th>Outstanding_Debt</th>\n",
       "      <th>Credit_Utilization_Ratio</th>\n",
       "      <th>Credit_History_Age</th>\n",
       "      <th>Payment_of_Min_Amount</th>\n",
       "      <th>Total_EMI_per_month</th>\n",
       "      <th>Amount_invested_monthly</th>\n",
       "      <th>Payment_Behaviour</th>\n",
       "      <th>Monthly_Balance</th>\n",
       "      <th>Credit_Score</th>\n",
       "    </tr>\n",
       "  </thead>\n",
       "  <tbody>\n",
       "  </tbody>\n",
       "</table>\n",
       "</div>"
      ],
      "text/plain": [
       "Empty DataFrame\n",
       "Columns: [ID, Customer_ID, Month, Age, Occupation, Annual_Income, Monthly_Inhand_Salary, Num_Bank_Accounts, Num_Credit_Card, Interest_Rate, Num_of_Loan, Type_of_Loan, Delay_from_due_date, Num_of_Delayed_Payment, Changed_Credit_Limit, Num_Credit_Inquiries, Credit_Mix, Outstanding_Debt, Credit_Utilization_Ratio, Credit_History_Age, Payment_of_Min_Amount, Total_EMI_per_month, Amount_invested_monthly, Payment_Behaviour, Monthly_Balance, Credit_Score]\n",
       "Index: []"
      ]
     },
     "execution_count": 207,
     "metadata": {},
     "output_type": "execute_result"
    }
   ],
   "source": [
    "# In every iteration, the loop will replace all _______ with a value of either the previous or next month. \n",
    "# It seems that there are at most 3 consecutive months with _______ in Occupation, so 3 loops is enough. \n",
    "# If we want to make the code work for more than 3 consecutive months, we can add more loops.\n",
    "for _ in range(3):\n",
    "    for i in df.index:\n",
    "        if df.loc[i, 'Occupation'] == '_______':\n",
    "            if df.loc[i+1, \"Customer_ID\"] == df.loc[i, \"Customer_ID\"] and df.loc[i+1, 'Occupation'] != '_______':\n",
    "                df.loc[i, 'Occupation'] = df.loc[i+1, 'Occupation']\n",
    "            elif df.loc[i-1, \"Customer_ID\"] == df.loc[i, \"Customer_ID\"] and df.loc[i-1, 'Occupation'] != '_______':\n",
    "                df.loc[i, 'Occupation'] = df.loc[i-1, 'Occupation']\n",
    "\n",
    "# print entries with ______ in Occupation\n",
    "df[df['Occupation'] == '_______']"
   ]
  },
  {
   "cell_type": "code",
   "execution_count": 208,
   "metadata": {},
   "outputs": [
    {
     "name": "stdout",
     "output_type": "stream",
     "text": [
      "test_Annual_Income\n",
      ",     135873\n",
      "._     10500\n",
      "        3627\n",
      "Name: count, dtype: int64\n",
      "test_Annual_Income\n",
      ",    146373\n",
      "       3627\n",
      "Name: count, dtype: int64\n"
     ]
    }
   ],
   "source": [
    "# Find out which special characters are cluttering the annual income data\n",
    "df['test_Annual_Income'] = df['Annual_Income'].str.replace('\\d+', '', regex=True)\n",
    "print(df[\"test_Annual_Income\"].value_counts())\n",
    "df.drop(\"test_Annual_Income\", axis=1, inplace=True)\n",
    "\n",
    "# Replace all special characters with the correct ones\n",
    "df['Annual_Income'] = df['Annual_Income'].str.replace('.', ',')\n",
    "df['Annual_Income'] = df['Annual_Income'].str.replace('_', '')\n",
    "\n",
    "# Check if you got all of them\n",
    "df['test_Annual_Income'] = df['Annual_Income'].str.replace('\\d+', '', regex=True)\n",
    "print(df[\"test_Annual_Income\"].value_counts())\n",
    "df.drop(\"test_Annual_Income\", axis=1, inplace=True)"
   ]
  },
  {
   "cell_type": "code",
   "execution_count": 209,
   "metadata": {},
   "outputs": [
    {
     "name": "stdout",
     "output_type": "stream",
     "text": [
      "test_Age\n",
      "     141234\n",
      "_      7416\n",
      "-      1350\n",
      "Name: count, dtype: int64\n",
      "test_Age\n",
      "    150000\n",
      "Name: count, dtype: int64\n"
     ]
    }
   ],
   "source": [
    "# Clean Age column\n",
    "df['test_Age'] = df['Age'].astype(str)\n",
    "df['test_Age'] = df['test_Age'].str.replace('\\d+', '', regex=True)\n",
    "print(df[\"test_Age\"].value_counts())\n",
    "df.drop(\"test_Age\", axis=1, inplace=True)\n",
    "\n",
    "df['Age'] = df['Age'].str.replace('\\D+', '', regex=True)\n",
    "\n",
    "df['test_Age'] = df['Age'].astype(str)\n",
    "df['test_Age'] = df['test_Age'].str.replace('\\d+', '', regex=True)\n",
    "print(df[\"test_Age\"].value_counts())\n",
    "df.drop(\"test_Age\", axis=1, inplace=True)"
   ]
  },
  {
   "cell_type": "code",
   "execution_count": 210,
   "metadata": {},
   "outputs": [
    {
     "name": "stdout",
     "output_type": "stream",
     "text": [
      "test_Monthly_Inhand_Salary\n",
      ",      127241\n",
      "nan     22500\n",
      "          259\n",
      "Name: count, dtype: int64\n"
     ]
    }
   ],
   "source": [
    "# Check Monthly_Inhand_Salary column\n",
    "df['test_Monthly_Inhand_Salary'] = df['Monthly_Inhand_Salary'].astype(str)\n",
    "df['test_Monthly_Inhand_Salary'] = df['test_Monthly_Inhand_Salary'].str.replace('\\d+', '', regex=True)\n",
    "print(df[\"test_Monthly_Inhand_Salary\"].value_counts())\n",
    "df.drop(\"test_Monthly_Inhand_Salary\", axis=1, inplace=True)\n",
    "\n",
    "# This column seems clean, just some missing values that we might be able to fill in later"
   ]
  },
  {
   "cell_type": "code",
   "execution_count": 211,
   "metadata": {},
   "outputs": [
    {
     "name": "stdout",
     "output_type": "stream",
     "text": [
      "test_Num_Bank_Accounts\n",
      "     149963\n",
      "-        37\n",
      "Name: count, dtype: int64\n",
      "test_Num_Bank_Accounts\n",
      ".      149963\n",
      "nan        37\n",
      "Name: count, dtype: int64\n"
     ]
    }
   ],
   "source": [
    "# Check num_bank_accounts column\n",
    "df['test_Num_Bank_Accounts'] = df['Num_Bank_Accounts'].astype(str)\n",
    "df['test_Num_Bank_Accounts'] = df['test_Num_Bank_Accounts'].str.replace('\\d+', '', regex=True)\n",
    "print(df[\"test_Num_Bank_Accounts\"].value_counts())\n",
    "df.drop(\"test_Num_Bank_Accounts\", axis=1, inplace=True)\n",
    "\n",
    "# Replace negative values with NaN\n",
    "df.loc[df['Num_Bank_Accounts'] < 0, 'Num_Bank_Accounts'] = np.nan\n",
    "\n",
    "df['test_Num_Bank_Accounts'] = df['Num_Bank_Accounts'].astype(str)\n",
    "df['test_Num_Bank_Accounts'] = df['test_Num_Bank_Accounts'].str.replace('\\d+', '', regex=True)\n",
    "print(df[\"test_Num_Bank_Accounts\"].value_counts())\n",
    "df.drop(\"test_Num_Bank_Accounts\", axis=1, inplace=True)"
   ]
  },
  {
   "cell_type": "code",
   "execution_count": 212,
   "metadata": {},
   "outputs": [
    {
     "name": "stdout",
     "output_type": "stream",
     "text": [
      "test_Num_Credit_Card\n",
      "    150000\n",
      "Name: count, dtype: int64\n"
     ]
    }
   ],
   "source": [
    "# Check Num_Credit_Card column\n",
    "df['test_Num_Credit_Card'] = df['Num_Credit_Card'].astype(str)\n",
    "df['test_Num_Credit_Card'] = df['test_Num_Credit_Card'].str.replace('\\d+', '', regex=True)\n",
    "print(df[\"test_Num_Credit_Card\"].value_counts())\n",
    "df.drop(\"test_Num_Credit_Card\", axis=1, inplace=True)\n",
    "\n",
    "# No negative values"
   ]
  },
  {
   "cell_type": "code",
   "execution_count": 213,
   "metadata": {},
   "outputs": [
    {
     "name": "stdout",
     "output_type": "stream",
     "text": [
      "test_Num_of_Loan\n",
      "     136929\n",
      "_      7221\n",
      "-      5850\n",
      "Name: count, dtype: int64\n",
      "test_Num_of_Loan\n",
      ".      144150\n",
      "nan      5850\n",
      "Name: count, dtype: int64\n"
     ]
    }
   ],
   "source": [
    "# Check Num_of_Loan column\n",
    "df['test_Num_of_Loan'] = df['Num_of_Loan'].astype(str)\n",
    "df['test_Num_of_Loan'] = df['test_Num_of_Loan'].str.replace('\\d+', '', regex=True)\n",
    "print(df[\"test_Num_of_Loan\"].value_counts())\n",
    "df.drop(\"test_Num_of_Loan\", axis=1, inplace=True)\n",
    "\n",
    "df['Num_of_Loan'] = df['Num_of_Loan'].str.replace('_', '')\n",
    "df['Num_of_Loan'] = df['Num_of_Loan'].astype(float)\n",
    "df.loc[df['Num_of_Loan'] < 0, 'Num_of_Loan'] = np.nan\n",
    "\n",
    "df['test_Num_of_Loan'] = df['Num_of_Loan'].astype(str)\n",
    "df['test_Num_of_Loan'] = df['test_Num_of_Loan'].str.replace('\\d+', '', regex=True)\n",
    "print(df[\"test_Num_of_Loan\"].value_counts())\n",
    "df.drop(\"test_Num_of_Loan\", axis=1, inplace=True)"
   ]
  },
  {
   "cell_type": "code",
   "execution_count": 214,
   "metadata": {},
   "outputs": [
    {
     "name": "stdout",
     "output_type": "stream",
     "text": [
      "test_Delay_from_due_date\n",
      "     149111\n",
      "-       889\n",
      "Name: count, dtype: int64\n",
      "test_Delay_from_due_date\n",
      "     149111\n",
      "-       889\n",
      "Name: count, dtype: int64\n"
     ]
    }
   ],
   "source": [
    "# Check Delay_from_due_date column\n",
    "df['test_Delay_from_due_date'] = df['Delay_from_due_date'].astype(str)\n",
    "df['test_Delay_from_due_date'] = df['test_Delay_from_due_date'].str.replace('\\d+', '', regex=True)\n",
    "print(df[\"test_Delay_from_due_date\"].value_counts())\n",
    "df.drop(\"test_Delay_from_due_date\", axis=1, inplace=True)\n",
    "\n",
    "#df['Delay_from_due_date'] = df['Delay_from_due_date'].astype(float)\n",
    "#df.loc[df['Delay_from_due_date'] < 0, 'Delay_from_due_date'] = np.nan\n",
    "# In this column, negative values might have a meaning\n",
    "\n",
    "df['test_Delay_from_due_date'] = df['Delay_from_due_date'].astype(str)\n",
    "df['test_Delay_from_due_date'] = df['test_Delay_from_due_date'].str.replace('\\d+', '', regex=True)\n",
    "print(df[\"test_Delay_from_due_date\"].value_counts())\n",
    "df.drop(\"test_Delay_from_due_date\", axis=1, inplace=True)"
   ]
  },
  {
   "cell_type": "code",
   "execution_count": 215,
   "metadata": {},
   "outputs": [
    {
     "name": "stdout",
     "output_type": "stream",
     "text": [
      "test_Num_of_Delayed_Payment\n",
      "       134432\n",
      "nan     10500\n",
      "_        4137\n",
      "-         897\n",
      "-_         34\n",
      "Name: count, dtype: int64\n",
      "test_Num_of_Delayed_Payment\n",
      ".      138569\n",
      "nan     11431\n",
      "Name: count, dtype: int64\n"
     ]
    }
   ],
   "source": [
    "# Check Num_of_Delayed_Payment column\n",
    "df['test_Num_of_Delayed_Payment'] = df['Num_of_Delayed_Payment'].astype(str)\n",
    "df['test_Num_of_Delayed_Payment'] = df['test_Num_of_Delayed_Payment'].str.replace('\\d+', '', regex=True)\n",
    "print(df[\"test_Num_of_Delayed_Payment\"].value_counts())\n",
    "df.drop(\"test_Num_of_Delayed_Payment\", axis=1, inplace=True)\n",
    "\n",
    "df['Num_of_Delayed_Payment'] = df['Num_of_Delayed_Payment'].str.replace('_', '')\n",
    "df['Num_of_Delayed_Payment'] = df['Num_of_Delayed_Payment'].astype(float)\n",
    "df.loc[df['Num_of_Delayed_Payment'] < 0, 'Num_of_Delayed_Payment'] = np.nan\n",
    "\n",
    "\n",
    "df['test_Num_of_Delayed_Payment'] = df['Num_of_Delayed_Payment'].astype(str)\n",
    "df['test_Num_of_Delayed_Payment'] = df['test_Num_of_Delayed_Payment'].str.replace('\\d+', '', regex=True)\n",
    "print(df[\"test_Num_of_Delayed_Payment\"].value_counts())\n",
    "df.drop(\"test_Num_of_Delayed_Payment\", axis=1, inplace=True)"
   ]
  },
  {
   "cell_type": "code",
   "execution_count": 216,
   "metadata": {},
   "outputs": [
    {
     "name": "stdout",
     "output_type": "stream",
     "text": [
      "test_Changed_Credit_Limit\n",
      ",     143130\n",
      "_       3150\n",
      "-,      2403\n",
      "        1299\n",
      "-         18\n",
      "Name: count, dtype: int64\n",
      "test_Changed_Credit_Limit\n",
      ",      143130\n",
      "nan      3150\n",
      "-,       2403\n",
      "         1299\n",
      "-          18\n",
      "Name: count, dtype: int64\n"
     ]
    }
   ],
   "source": [
    "df['test_Changed_Credit_Limit'] = df['Changed_Credit_Limit'].astype(str)\n",
    "df['test_Changed_Credit_Limit'] = df['test_Changed_Credit_Limit'].str.replace('\\d+', '', regex=True)\n",
    "print(df[\"test_Changed_Credit_Limit\"].value_counts())\n",
    "df.drop(\"test_Changed_Credit_Limit\", axis=1, inplace=True)\n",
    "\n",
    "df['Changed_Credit_Limit'] = df['Changed_Credit_Limit'].str.replace('_', '')\n",
    "df[\"Changed_Credit_Limit\"].replace([None, '', np.nan], np.nan, inplace=True)\n",
    "\n",
    "df['test_Changed_Credit_Limit'] = df['Changed_Credit_Limit'].astype(str)\n",
    "df['test_Changed_Credit_Limit'] = df['test_Changed_Credit_Limit'].str.replace('\\d+', '', regex=True)\n",
    "print(df[\"test_Changed_Credit_Limit\"].value_counts())\n",
    "df.drop(\"test_Changed_Credit_Limit\", axis=1, inplace=True)"
   ]
  },
  {
   "cell_type": "code",
   "execution_count": 217,
   "metadata": {},
   "outputs": [
    {
     "name": "stdout",
     "output_type": "stream",
     "text": [
      "test_Outstanding_Debt\n",
      ",     147016\n",
      "._      1500\n",
      "        1484\n",
      "Name: count, dtype: int64\n",
      "test_Outstanding_Debt\n",
      ",    148516\n",
      "       1484\n",
      "Name: count, dtype: int64\n"
     ]
    }
   ],
   "source": [
    "df['test_Outstanding_Debt'] = df['Outstanding_Debt'].astype(str)\n",
    "df['test_Outstanding_Debt'] = df['test_Outstanding_Debt'].str.replace('\\d+', '', regex=True)\n",
    "print(df[\"test_Outstanding_Debt\"].value_counts())\n",
    "df.drop(\"test_Outstanding_Debt\", axis=1, inplace=True)\n",
    "\n",
    "df['Outstanding_Debt'] = df['Outstanding_Debt'].str.replace('.', ',')\n",
    "df['Outstanding_Debt'] = df['Outstanding_Debt'].str.replace('_', '')\n",
    "\n",
    "df['test_Outstanding_Debt'] = df['Outstanding_Debt'].astype(str)\n",
    "df['test_Outstanding_Debt'] = df['test_Outstanding_Debt'].str.replace('\\d+', '', regex=True)\n",
    "print(df[\"test_Outstanding_Debt\"].value_counts())\n",
    "df.drop(\"test_Outstanding_Debt\", axis=1, inplace=True)"
   ]
  },
  {
   "cell_type": "code",
   "execution_count": 218,
   "metadata": {},
   "outputs": [
    {
     "name": "stdout",
     "output_type": "stream",
     "text": [
      "test_Credit_Utilization_Ratio\n",
      ",    149998\n",
      "          2\n",
      "Name: count, dtype: int64\n"
     ]
    }
   ],
   "source": [
    "df['test_Credit_Utilization_Ratio'] = df['Credit_Utilization_Ratio'].astype(str)\n",
    "df['test_Credit_Utilization_Ratio'] = df['test_Credit_Utilization_Ratio'].str.replace('\\d+', '', regex=True)\n",
    "print(df[\"test_Credit_Utilization_Ratio\"].value_counts())\n",
    "df.drop(\"test_Credit_Utilization_Ratio\", axis=1, inplace=True)\n",
    "\n",
    "# Find out what the empty cells are"
   ]
  },
  {
   "cell_type": "code",
   "execution_count": 219,
   "metadata": {},
   "outputs": [
    {
     "name": "stdout",
     "output_type": "stream",
     "text": [
      "test_Payment_of_Min_Amount\n",
      "Yes    78484\n",
      "No     53516\n",
      "NM     18000\n",
      "Name: count, dtype: int64\n",
      "test_Payment_of_Min_Amount\n",
      "Yes    78484\n",
      "No     53516\n",
      "nan    18000\n",
      "Name: count, dtype: int64\n"
     ]
    }
   ],
   "source": [
    "df['test_Payment_of_Min_Amount'] = df['Payment_of_Min_Amount'].astype(str)\n",
    "df['test_Payment_of_Min_Amount'] = df['test_Payment_of_Min_Amount'].str.replace('\\d+', '', regex=True)\n",
    "print(df[\"test_Payment_of_Min_Amount\"].value_counts())\n",
    "df.drop(\"test_Payment_of_Min_Amount\", axis=1, inplace=True)\n",
    "\n",
    "df.loc[df['Payment_of_Min_Amount'] == \"NM\", 'Payment_of_Min_Amount'] = np.nan\n",
    "\n",
    "df['test_Payment_of_Min_Amount'] = df['Payment_of_Min_Amount'].astype(str)\n",
    "df['test_Payment_of_Min_Amount'] = df['test_Payment_of_Min_Amount'].str.replace('\\d+', '', regex=True)\n",
    "print(df[\"test_Payment_of_Min_Amount\"].value_counts())\n",
    "df.drop(\"test_Payment_of_Min_Amount\", axis=1, inplace=True)"
   ]
  },
  {
   "cell_type": "code",
   "execution_count": 220,
   "metadata": {},
   "outputs": [
    {
     "name": "stdout",
     "output_type": "stream",
     "text": [
      "test_Amount_invested_monthly\n",
      ",       136495\n",
      "nan       6750\n",
      "____      6480\n",
      "           275\n",
      "Name: count, dtype: int64\n"
     ]
    }
   ],
   "source": [
    "df['test_Amount_invested_monthly'] = df['Amount_invested_monthly'].astype(str)\n",
    "df['test_Amount_invested_monthly'] = df['test_Amount_invested_monthly'].str.replace('\\d+', '', regex=True)\n",
    "print(df[\"test_Amount_invested_monthly\"].value_counts())\n",
    "df.drop(\"test_Amount_invested_monthly\", axis=1, inplace=True)\n",
    "\n",
    "# What do the __10000__ mean?"
   ]
  },
  {
   "cell_type": "code",
   "execution_count": 221,
   "metadata": {},
   "outputs": [
    {
     "name": "stdout",
     "output_type": "stream",
     "text": [
      "test_Payment_Behaviour\n",
      "Low_spent_Small_value_payments      38207\n",
      "High_spent_Medium_value_payments    26462\n",
      "Low_spent_Medium_value_payments     20698\n",
      "High_spent_Large_value_payments     20565\n",
      "High_spent_Small_value_payments     16991\n",
      "Low_spent_Large_value_payments      15677\n",
      "!@#%                                11400\n",
      "Name: count, dtype: int64\n",
      "test_Payment_Behaviour\n",
      "Low_spent_Small_value_payments      38207\n",
      "High_spent_Medium_value_payments    26462\n",
      "Low_spent_Medium_value_payments     20698\n",
      "High_spent_Large_value_payments     20565\n",
      "High_spent_Small_value_payments     16991\n",
      "Low_spent_Large_value_payments      15677\n",
      "nan                                 11400\n",
      "Name: count, dtype: int64\n"
     ]
    }
   ],
   "source": [
    "df['test_Payment_Behaviour'] = df['Payment_Behaviour'].astype(str)\n",
    "df['test_Payment_Behaviour'] = df['test_Payment_Behaviour'].str.replace('\\d+', '', regex=True)\n",
    "print(df[\"test_Payment_Behaviour\"].value_counts())\n",
    "df.drop(\"test_Payment_Behaviour\", axis=1, inplace=True)\n",
    "\n",
    "df.loc[df['Payment_Behaviour'] == \"!@9#%8\", 'Payment_Behaviour'] = np.nan\n",
    "\n",
    "df['test_Payment_Behaviour'] = df['Payment_Behaviour'].astype(str)\n",
    "df['test_Payment_Behaviour'] = df['test_Payment_Behaviour'].str.replace('\\d+', '', regex=True)\n",
    "print(df[\"test_Payment_Behaviour\"].value_counts())\n",
    "df.drop(\"test_Payment_Behaviour\", axis=1, inplace=True)"
   ]
  },
  {
   "cell_type": "code",
   "execution_count": 222,
   "metadata": {},
   "outputs": [
    {
     "name": "stdout",
     "output_type": "stream",
     "text": [
      "test_Monthly_Balance\n",
      ",        148223\n",
      "nan        1762\n",
      "__-__        15\n",
      "Name: count, dtype: int64\n",
      "test_Monthly_Balance\n",
      ",      148223\n",
      "nan      1777\n",
      "Name: count, dtype: int64\n"
     ]
    }
   ],
   "source": [
    "df['test_Monthly_Balance'] = df['Monthly_Balance'].astype(str)\n",
    "df['test_Monthly_Balance'] = df['test_Monthly_Balance'].str.replace('\\d+', '', regex=True)\n",
    "print(df[\"test_Monthly_Balance\"].value_counts())\n",
    "df.drop(\"test_Monthly_Balance\", axis=1, inplace=True)\n",
    "\n",
    "df.loc[df['Monthly_Balance'] == \"__-333333333333333333333333333__\", 'Monthly_Balance'] = np.nan\n",
    "\n",
    "df['test_Monthly_Balance'] = df['Monthly_Balance'].astype(str)\n",
    "df['test_Monthly_Balance'] = df['test_Monthly_Balance'].str.replace('\\d+', '', regex=True)\n",
    "print(df[\"test_Monthly_Balance\"].value_counts())\n",
    "df.drop(\"test_Monthly_Balance\", axis=1, inplace=True)"
   ]
  }
 ],
 "metadata": {
  "kernelspec": {
   "display_name": ".venv",
   "language": "python",
   "name": "python3"
  },
  "language_info": {
   "codemirror_mode": {
    "name": "ipython",
    "version": 3
   },
   "file_extension": ".py",
   "mimetype": "text/x-python",
   "name": "python",
   "nbconvert_exporter": "python",
   "pygments_lexer": "ipython3",
   "version": "3.10.11"
  }
 },
 "nbformat": 4,
 "nbformat_minor": 2
}
